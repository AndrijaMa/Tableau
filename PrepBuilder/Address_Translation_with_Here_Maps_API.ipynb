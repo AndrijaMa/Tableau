{
  "nbformat": 4,
  "nbformat_minor": 0,
  "metadata": {
    "colab": {
      "name": "Address Translation with Here Maps API.ipynb",
      "provenance": [],
      "authorship_tag": "ABX9TyMATTBuwDCkaNEN4bGtyTLf",
      "include_colab_link": true
    },
    "kernelspec": {
      "name": "python3",
      "display_name": "Python 3"
    }
  },
  "cells": [
    {
      "cell_type": "markdown",
      "metadata": {
        "id": "view-in-github",
        "colab_type": "text"
      },
      "source": [
        "<a href=\"https://colab.research.google.com/github/AndrijaMa/Tableau/blob/master/PrepBuilder/Address_Translation_with_Here_Maps_API.ipynb\" target=\"_parent\"><img src=\"https://colab.research.google.com/assets/colab-badge.svg\" alt=\"Open In Colab\"/></a>"
      ]
    },
    {
      "cell_type": "code",
      "metadata": {
        "id": "uWfFIRikH3d3"
      },
      "source": [
        "import herepy\n",
        "import pandas as pd\n",
        "import json\n",
        "\n",
        "def getCoordinates(df):\n",
        "\n",
        "    lat = []\n",
        "    lon = []\n",
        "       \n",
        "    for i in df.index:\n",
        "        \n",
        "        #Call HERE geocoding API \n",
        "        #Signup here https://developer.here.com/sign-up?create=Freemium-Basic&keepState=true&step=account\n",
        "        geocoderApi = herepy.GeocoderApi('****')\n",
        "        \n",
        "        #Create a full adress with Street, City, Country\n",
        "        adress = df['Street'][i] + ',' + df['City'][i] + ',' + df['Country'][i]  \n",
        "        \n",
        "        #Resolve the adress to coordinates\n",
        "        getCoordinates = geocoderApi.free_form(adress)\n",
        "       \n",
        "        #print(getCoordinates)\n",
        "        #Get the result of getCoordinates in JSON format\n",
        "        json_data = json.loads(str(getCoordinates)) \n",
        "        for item in json_data['items']:\n",
        "            \n",
        "        #Append Latidude to lat\n",
        "            for row in item['access']:\n",
        "                   \n",
        "                lat.append(row['lat'])\n",
        "                lon.append(row['lng'])\n",
        "                \n",
        "    #Add columns Longitude and Latitude to the dataframe\n",
        "        df['Longitude'] = pd.DataFrame(lon)\n",
        "        df['Latitude'] = pd.DataFrame(lat)\n",
        "   \n",
        "    #Return the dataframe\n",
        "    print(df)\n",
        "    return df\n",
        "\n",
        "#Set the formating of the columns that will be sent back to prep\n",
        "#get_output_schema has to be in lower letters\n",
        "def get_output_schema():\n",
        "    return pd.DataFrame({\n",
        "        #'Buttik' :  prep_string(),\n",
        "        'Country' : prep_string(),\n",
        "        'City' : prep_string(),\n",
        "        'Street' : prep_string(),\n",
        "        'Longitude' : prep_decimal(),\n",
        "        'Latitude' : prep_decimal()\n",
        "        })\n"
      ],
      "execution_count": null,
      "outputs": []
    }
  ]
}