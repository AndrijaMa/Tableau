{
  "nbformat": 4,
  "nbformat_minor": 0,
  "metadata": {
    "colab": {
      "name": "Simple REST call.ipynb",
      "provenance": [],
      "authorship_tag": "ABX9TyN04ziR4RRcSH3xD8SLT1Zv",
      "include_colab_link": true
    },
    "kernelspec": {
      "name": "python3",
      "display_name": "Python 3"
    }
  },
  "cells": [
    {
      "cell_type": "markdown",
      "metadata": {
        "id": "view-in-github",
        "colab_type": "text"
      },
      "source": [
        "<a href=\"https://colab.research.google.com/github/AndrijaMa/Tableau/blob/master/PrepBuilder/Simple_REST_call.ipynb\" target=\"_parent\"><img src=\"https://colab.research.google.com/assets/colab-badge.svg\" alt=\"Open In Colab\"/></a>"
      ]
    },
    {
      "cell_type": "markdown",
      "metadata": {
        "id": "C1oz1a-SKChT"
      },
      "source": [
        "The dataframe that in Prep Builder can be empty but should include the columns Name and Craft"
      ]
    },
    {
      "cell_type": "code",
      "metadata": {
        "id": "yzK5NDA4Jt93"
      },
      "source": [
        "import requests\n",
        "import pandas as pd\n",
        "\n",
        "\n",
        "def CallREST(df):\n",
        "    name = []\n",
        "    craft = []\n",
        "    request = requests.get(\"http://api.open-notify.org/astros.json\")\n",
        "    r = request.json()\n",
        "  \n",
        "    for x in r['people']:\n",
        "        name.append(x['name'])\n",
        "        craft.append(x['craft'])\n",
        "\n",
        "    df['Name'] = pd.DataFrame(name)\n",
        "    df['Craft'] = pd.DataFrame(craft)\n",
        "  \n",
        "    return df\n",
        "\n",
        "def get_output_schema():       \n",
        "  return pd.DataFrame({\n",
        "    'Name' : prep_string(),\n",
        "    'Craft' : prep_string()\n",
        "})"
      ],
      "execution_count": null,
      "outputs": []
    }
  ]
}